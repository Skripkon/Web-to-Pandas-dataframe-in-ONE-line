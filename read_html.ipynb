{
 "cells": [
  {
   "cell_type": "markdown",
   "id": "e92d30eb-7854-4e33-b094-dafd6af5df9e",
   "metadata": {},
   "source": [
    "## How to parse almost all tables that you find on the internet"
   ]
  },
  {
   "cell_type": "code",
   "execution_count": 1,
   "id": "b79bfc35-ae8d-472f-8d96-a7935912a74c",
   "metadata": {},
   "outputs": [],
   "source": [
    "# imports\n",
    "import pandas as pd"
   ]
  },
  {
   "cell_type": "markdown",
   "id": "707b04b5-5549-4920-be9e-1cb205772cef",
   "metadata": {},
   "source": [
    "**Documentation** https://pandas.pydata.org/docs/reference/api/pandas.read_html.html"
   ]
  },
  {
   "cell_type": "code",
   "execution_count": 2,
   "id": "466066dc-e1ad-4dda-854d-686153174304",
   "metadata": {
    "scrolled": true
   },
   "outputs": [
    {
     "data": {
      "text/plain": [
       "[    0                                                  1\n",
       " 0 NaN  This article's lead section may be too short t...,\n",
       "             Year  Total  homicides  Homicide rate  Homicide rate.1\n",
       " 0       1990[13]             21145          14.29              NaN\n",
       " 1       1991[13]             22621          15.24              NaN\n",
       " 2       1992[13]             33912          22.83              NaN\n",
       " 3       1993[13]             45060          30.35              NaN\n",
       " 4       1994[13]             47870          32.26              NaN\n",
       " 5       1995[13]             45257          30.50              NaN\n",
       " 6       1996[13]             39083          26.38              NaN\n",
       " 7       1997[13]             34995          23.66              NaN\n",
       " 8       1998[13]             33553          22.72              NaN\n",
       " 9       1999[13]             38225          25.97              NaN\n",
       " 10      2000[13]             41090          28.03              NaN\n",
       " 11      2001[13]             42921          29.40              NaN\n",
       " 12          2002             44252          30.45              NaN\n",
       " 13          2003             41764          28.87              NaN\n",
       " 14          2004             39256          27.25              NaN\n",
       " 15          2005             35636          24.83              NaN\n",
       " 16  2006[14][15]             28513          19.93              NaN\n",
       " 17  2007[14][15]             24885          17.43              NaN\n",
       " 18  2008[14][15]             23427          16.41              NaN\n",
       " 19  2009[14][15]             21121          14.79              NaN\n",
       " 20  2010[14][15]             18660          13.06              NaN\n",
       " 21  2011[14][15]             16406          11.48              NaN\n",
       " 22  2012[14][15]             14945          10.44              NaN\n",
       " 23  2013[14][15]             13912           9.69              NaN\n",
       " 24  2014[14][15]             12561           8.60              NaN\n",
       " 25  2015[14][15]             11679           7.98              NaN\n",
       " 26  2016[14][15]             10331           7.04              NaN\n",
       " 27  2017[14][15]              8844           6.02              NaN\n",
       " 28  2018[14][15]              7609           5.18              NaN\n",
       " 29      2019[14]              7212           4.90              NaN,\n",
       "       Name of Drug                                     Source country  \\\n",
       " 0  Poppy straw[27]               Belarus, Lithuania, Moldova, Ukraine   \n",
       " 1        Opium[27]  Afghanistan, Azerbaijan, Kyrgyzstan, Pakistan,...   \n",
       " 2       Heroin[27]  Afghanistan, Azerbaijan, Kyrgyzstan, Pakistan,...   \n",
       " 3     Cannabis[27]  Afghanistan, Azerbaijan, Kazakhstan, Kyrgyzsta...   \n",
       " 4      Cocaine[27]   Bolivia, Brazil, Colombia, Europe, Venezuela, US   \n",
       " \n",
       "                                  Destination country  \n",
       " 0                                    Estonia, Poland  \n",
       " 1                          Canada, Europe, Japan, US  \n",
       " 2       Australia, Canada, Europe, Israel, Japan, US  \n",
       " 3  Canada, China, Europe, Japan, Republic of Kore...  \n",
       " 4          Europe, Ghana, Oman, South Africa, Zambia  ,\n",
       "                                     Year 1997[60] 1998[60] 1999[60] 2000[60]  \\\n",
       " 0  Embezzlement (prisvoenie or rastrata)        -        -        -        -   \n",
       " 1            Bribery (vzyatochnichestvo)     5068     5805     6823     7047   \n",
       " \n",
       "    2001[60]  2002[60]  2003[60]  \n",
       " 0     46848     43859     44706  \n",
       " 1      7909      7311      7346  ,\n",
       "          Country Russia [14]      Japan[79] Germany[80] United Kingdom[79]  \\\n",
       "             Year        2001 2017      2000        2000               2000   \n",
       " 0  Homicide rate        30.5    6       0.5         1.4              1.406   \n",
       " \n",
       "   France[79] Canada[81] Poland[79] United States [82] South Africa[79]  \\\n",
       "         2000       2004       2000               2016             2000   \n",
       " 0      1.733        1.9      5.628                5.4             49.6   \n",
       " \n",
       "   Colombia[79]  \n",
       "           2000  \n",
       " 0       61.785  ,\n",
       "                                    vteRussia articles  \\\n",
       " 0                                             History   \n",
       " 1                                            Timeline   \n",
       " 2                                            By topic   \n",
       " 3                                           Geography   \n",
       " 4   Borders Cities and towns Climate Earthquakes E...   \n",
       " 5                                            Politics   \n",
       " 6   Civil Service Conscription Constitution Crimin...   \n",
       " 7                                             Economy   \n",
       " 8   Agriculture Aircraft industry Banking Car indu...   \n",
       " 9                                             Society   \n",
       " 10  Abortion Alcohol Censorship Citizens Crime Cor...   \n",
       " 11                                            Culture   \n",
       " 12                            Outline Category Portal   \n",
       " \n",
       "                                  vteRussia articles.1  \n",
       " 0   Timeline Proto-Indo-Europeans Scythians Sarmat...  \n",
       " 1   Proto-Indo-Europeans Scythians Sarmatians Earl...  \n",
       " 2   Economy Journalism Judaism LGBT Military Posta...  \n",
       " 3   Borders Cities and towns Climate Earthquakes E...  \n",
       " 4   Borders Cities and towns Climate Earthquakes E...  \n",
       " 5   Civil Service Conscription Constitution Crimin...  \n",
       " 6   Civil Service Conscription Constitution Crimin...  \n",
       " 7   Agriculture Aircraft industry Banking Car indu...  \n",
       " 8   Agriculture Aircraft industry Banking Car indu...  \n",
       " 9   Abortion Alcohol Censorship Citizens Crime Cor...  \n",
       " 10  Abortion Alcohol Censorship Citizens Crime Cor...  \n",
       " 11  Architecture Arts Ballet Cinema Cuisine Wine F...  \n",
       " 12                            Outline Category Portal  ,\n",
       "           0                                                  1\n",
       " 0  Timeline  Proto-Indo-Europeans Scythians Sarmatians Earl...\n",
       " 1  By topic  Economy Journalism Judaism LGBT Military Posta...,\n",
       "                                                    0  \\\n",
       " 0  Borders Cities and towns Climate Earthquakes E...   \n",
       " \n",
       "                                                    1  \n",
       " 0  Borders Cities and towns Climate Earthquakes E...  ,\n",
       "                                                    0  \\\n",
       " 0  Civil Service Conscription Constitution Crimin...   \n",
       " \n",
       "                                                    1  \n",
       " 0  Civil Service Conscription Constitution Crimin...  ,\n",
       "                                                    0  \\\n",
       " 0  Agriculture Aircraft industry Banking Car indu...   \n",
       " \n",
       "                                                    1  \n",
       " 0  Agriculture Aircraft industry Banking Car indu...  ,\n",
       "                                                    0  \\\n",
       " 0  Abortion Alcohol Censorship Citizens Crime Cor...   \n",
       " 1                                            Culture   \n",
       " \n",
       "                                                    1  \n",
       " 0  Abortion Alcohol Censorship Citizens Crime Cor...  \n",
       " 1  Architecture Arts Ballet Cinema Cuisine Wine F...  ,\n",
       "                      vteCrime in Asia  \\\n",
       " 0                    Sovereign states   \n",
       " 1     States with limited recognition   \n",
       " 2  Dependencies and other territories   \n",
       " 3               Category  Asia portal   \n",
       " \n",
       "                                   vteCrime in Asia.1  \n",
       " 0  Afghanistan Armenia Azerbaijan Bahrain Banglad...  \n",
       " 1  Abkhazia Artsakh Northern Cyprus Palestine Sou...  \n",
       " 2  British Indian Ocean Territory Christmas Islan...  \n",
       " 3                              Category  Asia portal  ,\n",
       "                 vteCrime in Europe  \\\n",
       " 0                 Sovereign states   \n",
       " 1  States with limited recognition   \n",
       " 2  Dependencies and other entities   \n",
       " \n",
       "                                 vteCrime in Europe.1  \n",
       " 0  Albania Andorra Armenia Austria Azerbaijan Bel...  \n",
       " 1  Abkhazia Artsakh Kosovo Northern Cyprus South ...  \n",
       " 2  Åland Faroe Islands Gibraltar Guernsey Isle of...  ]"
      ]
     },
     "execution_count": 2,
     "metadata": {},
     "output_type": "execute_result"
    }
   ],
   "source": [
    "# It returns a list of all tables located at the passed URL\n",
    "pd.read_html(\"https://en.wikipedia.org/wiki/Crime_in_Russia\")"
   ]
  },
  {
   "cell_type": "code",
   "execution_count": 3,
   "id": "0035ef8a-af9d-489b-9fb8-a80a6bfeebe0",
   "metadata": {},
   "outputs": [
    {
     "data": {
      "text/html": [
       "<div>\n",
       "<style scoped>\n",
       "    .dataframe tbody tr th:only-of-type {\n",
       "        vertical-align: middle;\n",
       "    }\n",
       "\n",
       "    .dataframe tbody tr th {\n",
       "        vertical-align: top;\n",
       "    }\n",
       "\n",
       "    .dataframe thead th {\n",
       "        text-align: right;\n",
       "    }\n",
       "</style>\n",
       "<table border=\"1\" class=\"dataframe\">\n",
       "  <thead>\n",
       "    <tr style=\"text-align: right;\">\n",
       "      <th></th>\n",
       "      <th>Year</th>\n",
       "      <th>Total  homicides</th>\n",
       "      <th>Homicide rate</th>\n",
       "      <th>Homicide rate.1</th>\n",
       "    </tr>\n",
       "  </thead>\n",
       "  <tbody>\n",
       "    <tr>\n",
       "      <th>0</th>\n",
       "      <td>1990[13]</td>\n",
       "      <td>21145</td>\n",
       "      <td>14.29</td>\n",
       "      <td>NaN</td>\n",
       "    </tr>\n",
       "    <tr>\n",
       "      <th>1</th>\n",
       "      <td>1991[13]</td>\n",
       "      <td>22621</td>\n",
       "      <td>15.24</td>\n",
       "      <td>NaN</td>\n",
       "    </tr>\n",
       "    <tr>\n",
       "      <th>2</th>\n",
       "      <td>1992[13]</td>\n",
       "      <td>33912</td>\n",
       "      <td>22.83</td>\n",
       "      <td>NaN</td>\n",
       "    </tr>\n",
       "    <tr>\n",
       "      <th>3</th>\n",
       "      <td>1993[13]</td>\n",
       "      <td>45060</td>\n",
       "      <td>30.35</td>\n",
       "      <td>NaN</td>\n",
       "    </tr>\n",
       "    <tr>\n",
       "      <th>4</th>\n",
       "      <td>1994[13]</td>\n",
       "      <td>47870</td>\n",
       "      <td>32.26</td>\n",
       "      <td>NaN</td>\n",
       "    </tr>\n",
       "  </tbody>\n",
       "</table>\n",
       "</div>"
      ],
      "text/plain": [
       "       Year  Total  homicides  Homicide rate  Homicide rate.1\n",
       "0  1990[13]             21145          14.29              NaN\n",
       "1  1991[13]             22621          15.24              NaN\n",
       "2  1992[13]             33912          22.83              NaN\n",
       "3  1993[13]             45060          30.35              NaN\n",
       "4  1994[13]             47870          32.26              NaN"
      ]
     },
     "execution_count": 3,
     "metadata": {},
     "output_type": "execute_result"
    }
   ],
   "source": [
    "# You need to find an index of the table that you are looking for\n",
    "pd.read_html(\"https://en.wikipedia.org/wiki/Crime_in_Russia\")[1].head()"
   ]
  },
  {
   "cell_type": "code",
   "execution_count": 4,
   "id": "f4ce0784-4866-411d-954c-77979f73bf63",
   "metadata": {},
   "outputs": [],
   "source": [
    "df = pd.read_html(\"https://en.wikipedia.org/wiki/Crime_in_Russia\")[1]"
   ]
  },
  {
   "cell_type": "code",
   "execution_count": 5,
   "id": "b162a1b7-1db0-499f-910e-d4464cab5a8b",
   "metadata": {},
   "outputs": [
    {
     "data": {
      "text/html": [
       "<div>\n",
       "<style scoped>\n",
       "    .dataframe tbody tr th:only-of-type {\n",
       "        vertical-align: middle;\n",
       "    }\n",
       "\n",
       "    .dataframe tbody tr th {\n",
       "        vertical-align: top;\n",
       "    }\n",
       "\n",
       "    .dataframe thead th {\n",
       "        text-align: right;\n",
       "    }\n",
       "</style>\n",
       "<table border=\"1\" class=\"dataframe\">\n",
       "  <thead>\n",
       "    <tr style=\"text-align: right;\">\n",
       "      <th></th>\n",
       "      <th>Year</th>\n",
       "      <th>Total  homicides</th>\n",
       "      <th>Homicide rate</th>\n",
       "      <th>Homicide rate.1</th>\n",
       "    </tr>\n",
       "  </thead>\n",
       "  <tbody>\n",
       "    <tr>\n",
       "      <th>0</th>\n",
       "      <td>1990[13]</td>\n",
       "      <td>21145</td>\n",
       "      <td>14.29</td>\n",
       "      <td>NaN</td>\n",
       "    </tr>\n",
       "    <tr>\n",
       "      <th>1</th>\n",
       "      <td>1991[13]</td>\n",
       "      <td>22621</td>\n",
       "      <td>15.24</td>\n",
       "      <td>NaN</td>\n",
       "    </tr>\n",
       "    <tr>\n",
       "      <th>2</th>\n",
       "      <td>1992[13]</td>\n",
       "      <td>33912</td>\n",
       "      <td>22.83</td>\n",
       "      <td>NaN</td>\n",
       "    </tr>\n",
       "    <tr>\n",
       "      <th>3</th>\n",
       "      <td>1993[13]</td>\n",
       "      <td>45060</td>\n",
       "      <td>30.35</td>\n",
       "      <td>NaN</td>\n",
       "    </tr>\n",
       "    <tr>\n",
       "      <th>4</th>\n",
       "      <td>1994[13]</td>\n",
       "      <td>47870</td>\n",
       "      <td>32.26</td>\n",
       "      <td>NaN</td>\n",
       "    </tr>\n",
       "    <tr>\n",
       "      <th>5</th>\n",
       "      <td>1995[13]</td>\n",
       "      <td>45257</td>\n",
       "      <td>30.50</td>\n",
       "      <td>NaN</td>\n",
       "    </tr>\n",
       "    <tr>\n",
       "      <th>6</th>\n",
       "      <td>1996[13]</td>\n",
       "      <td>39083</td>\n",
       "      <td>26.38</td>\n",
       "      <td>NaN</td>\n",
       "    </tr>\n",
       "    <tr>\n",
       "      <th>7</th>\n",
       "      <td>1997[13]</td>\n",
       "      <td>34995</td>\n",
       "      <td>23.66</td>\n",
       "      <td>NaN</td>\n",
       "    </tr>\n",
       "    <tr>\n",
       "      <th>8</th>\n",
       "      <td>1998[13]</td>\n",
       "      <td>33553</td>\n",
       "      <td>22.72</td>\n",
       "      <td>NaN</td>\n",
       "    </tr>\n",
       "    <tr>\n",
       "      <th>9</th>\n",
       "      <td>1999[13]</td>\n",
       "      <td>38225</td>\n",
       "      <td>25.97</td>\n",
       "      <td>NaN</td>\n",
       "    </tr>\n",
       "    <tr>\n",
       "      <th>10</th>\n",
       "      <td>2000[13]</td>\n",
       "      <td>41090</td>\n",
       "      <td>28.03</td>\n",
       "      <td>NaN</td>\n",
       "    </tr>\n",
       "    <tr>\n",
       "      <th>11</th>\n",
       "      <td>2001[13]</td>\n",
       "      <td>42921</td>\n",
       "      <td>29.40</td>\n",
       "      <td>NaN</td>\n",
       "    </tr>\n",
       "    <tr>\n",
       "      <th>12</th>\n",
       "      <td>2002</td>\n",
       "      <td>44252</td>\n",
       "      <td>30.45</td>\n",
       "      <td>NaN</td>\n",
       "    </tr>\n",
       "    <tr>\n",
       "      <th>13</th>\n",
       "      <td>2003</td>\n",
       "      <td>41764</td>\n",
       "      <td>28.87</td>\n",
       "      <td>NaN</td>\n",
       "    </tr>\n",
       "    <tr>\n",
       "      <th>14</th>\n",
       "      <td>2004</td>\n",
       "      <td>39256</td>\n",
       "      <td>27.25</td>\n",
       "      <td>NaN</td>\n",
       "    </tr>\n",
       "  </tbody>\n",
       "</table>\n",
       "</div>"
      ],
      "text/plain": [
       "        Year  Total  homicides  Homicide rate  Homicide rate.1\n",
       "0   1990[13]             21145          14.29              NaN\n",
       "1   1991[13]             22621          15.24              NaN\n",
       "2   1992[13]             33912          22.83              NaN\n",
       "3   1993[13]             45060          30.35              NaN\n",
       "4   1994[13]             47870          32.26              NaN\n",
       "5   1995[13]             45257          30.50              NaN\n",
       "6   1996[13]             39083          26.38              NaN\n",
       "7   1997[13]             34995          23.66              NaN\n",
       "8   1998[13]             33553          22.72              NaN\n",
       "9   1999[13]             38225          25.97              NaN\n",
       "10  2000[13]             41090          28.03              NaN\n",
       "11  2001[13]             42921          29.40              NaN\n",
       "12      2002             44252          30.45              NaN\n",
       "13      2003             41764          28.87              NaN\n",
       "14      2004             39256          27.25              NaN"
      ]
     },
     "execution_count": 5,
     "metadata": {},
     "output_type": "execute_result"
    }
   ],
   "source": [
    "df.head(15)"
   ]
  },
  {
   "cell_type": "markdown",
   "id": "1d7b50cd-343c-46f7-a1c4-e1de79b53c8d",
   "metadata": {},
   "source": [
    "#### Data Preprocessing"
   ]
  },
  {
   "cell_type": "markdown",
   "id": "fe6dd3cf-0aab-4ad2-b2d9-971f8f77acb6",
   "metadata": {},
   "source": [
    "As you can see, the data doesn't look completely good. Some changes are required to be made."
   ]
  },
  {
   "cell_type": "code",
   "execution_count": 6,
   "id": "0287ea6f-4a35-4150-9eb9-30febbf9c7c6",
   "metadata": {},
   "outputs": [],
   "source": [
    "df['Year'] = df['Year'].str[0:4]"
   ]
  },
  {
   "cell_type": "code",
   "execution_count": 7,
   "id": "7a7ed90d-26b1-4410-a091-15e8e7f68155",
   "metadata": {},
   "outputs": [],
   "source": [
    "df = df.drop(columns='Homicide rate.1')"
   ]
  },
  {
   "cell_type": "code",
   "execution_count": 8,
   "id": "2353bc31-0b98-447c-a1f1-805225e31f75",
   "metadata": {},
   "outputs": [
    {
     "data": {
      "text/plain": [
       "Year                 object\n",
       "Total  homicides      int64\n",
       "Homicide rate       float64\n",
       "dtype: object"
      ]
     },
     "execution_count": 8,
     "metadata": {},
     "output_type": "execute_result"
    }
   ],
   "source": [
    "df.dtypes"
   ]
  },
  {
   "cell_type": "code",
   "execution_count": 9,
   "id": "384cf3bb-1deb-4336-9b13-0ff01474878f",
   "metadata": {},
   "outputs": [],
   "source": [
    "df['Year'] = df['Year'].astype(int)"
   ]
  },
  {
   "cell_type": "code",
   "execution_count": 10,
   "id": "c6907384-8b21-4e8e-8670-77b61031dca2",
   "metadata": {},
   "outputs": [
    {
     "data": {
      "text/plain": [
       "Year                  int64\n",
       "Total  homicides      int64\n",
       "Homicide rate       float64\n",
       "dtype: object"
      ]
     },
     "execution_count": 10,
     "metadata": {},
     "output_type": "execute_result"
    }
   ],
   "source": [
    "df.dtypes"
   ]
  },
  {
   "cell_type": "code",
   "execution_count": 11,
   "id": "e9bb45b7-77a4-4400-885f-bcfb1e564caf",
   "metadata": {},
   "outputs": [
    {
     "data": {
      "text/html": [
       "<div>\n",
       "<style scoped>\n",
       "    .dataframe tbody tr th:only-of-type {\n",
       "        vertical-align: middle;\n",
       "    }\n",
       "\n",
       "    .dataframe tbody tr th {\n",
       "        vertical-align: top;\n",
       "    }\n",
       "\n",
       "    .dataframe thead th {\n",
       "        text-align: right;\n",
       "    }\n",
       "</style>\n",
       "<table border=\"1\" class=\"dataframe\">\n",
       "  <thead>\n",
       "    <tr style=\"text-align: right;\">\n",
       "      <th></th>\n",
       "      <th>Year</th>\n",
       "      <th>Total  homicides</th>\n",
       "      <th>Homicide rate</th>\n",
       "    </tr>\n",
       "  </thead>\n",
       "  <tbody>\n",
       "    <tr>\n",
       "      <th>0</th>\n",
       "      <td>1990</td>\n",
       "      <td>21145</td>\n",
       "      <td>14.29</td>\n",
       "    </tr>\n",
       "    <tr>\n",
       "      <th>1</th>\n",
       "      <td>1991</td>\n",
       "      <td>22621</td>\n",
       "      <td>15.24</td>\n",
       "    </tr>\n",
       "    <tr>\n",
       "      <th>2</th>\n",
       "      <td>1992</td>\n",
       "      <td>33912</td>\n",
       "      <td>22.83</td>\n",
       "    </tr>\n",
       "    <tr>\n",
       "      <th>3</th>\n",
       "      <td>1993</td>\n",
       "      <td>45060</td>\n",
       "      <td>30.35</td>\n",
       "    </tr>\n",
       "    <tr>\n",
       "      <th>4</th>\n",
       "      <td>1994</td>\n",
       "      <td>47870</td>\n",
       "      <td>32.26</td>\n",
       "    </tr>\n",
       "  </tbody>\n",
       "</table>\n",
       "</div>"
      ],
      "text/plain": [
       "   Year  Total  homicides  Homicide rate\n",
       "0  1990             21145          14.29\n",
       "1  1991             22621          15.24\n",
       "2  1992             33912          22.83\n",
       "3  1993             45060          30.35\n",
       "4  1994             47870          32.26"
      ]
     },
     "execution_count": 11,
     "metadata": {},
     "output_type": "execute_result"
    }
   ],
   "source": [
    "df.head()"
   ]
  },
  {
   "cell_type": "markdown",
   "id": "00738727-c204-4c7c-83e8-99d39b8c49bf",
   "metadata": {},
   "source": [
    "#### Basic visualisation"
   ]
  },
  {
   "cell_type": "code",
   "execution_count": 12,
   "id": "d7d7017e-adc6-4ca3-bdc7-4282392fe9a5",
   "metadata": {},
   "outputs": [
    {
     "data": {
      "image/png": "[encoded data removed]",
      "text/plain": [
       "<Figure size 640x480 with 2 Axes>"
      ]
     },
     "metadata": {},
     "output_type": "display_data"
    }
   ],
   "source": [
    "df.plot(x='Year', y=['Homicide rate','Total  homicides'], color='red', subplots=True);"
   ]
  },
  {
   "cell_type": "markdown",
   "id": "b7e1d3bd-d0f9-4bf0-9039-333f8043c9bc",
   "metadata": {},
   "source": [
    "#### Saving data into a CSV file"
   ]
  },
  {
   "cell_type": "code",
   "execution_count": 13,
   "id": "c97d832c-b237-43c3-af27-0a7467468390",
   "metadata": {},
   "outputs": [],
   "source": [
    "df.to_csv('crime_in_Russia.csv', index=False)"
   ]
  }
 ],
 "metadata": {
  "kernelspec": {
   "display_name": "Python 3 (ipykernel)",
   "language": "python",
   "name": "python3"
  },
  "language_info": {
   "codemirror_mode": {
    "name": "ipython",
    "version": 3
   },
   "file_extension": ".py",
   "mimetype": "text/x-python",
   "name": "python",
   "nbconvert_exporter": "python",
   "pygments_lexer": "ipython3",
   "version": "3.11.4"
  }
 },
 "nbformat": 4,
 "nbformat_minor": 5
}
